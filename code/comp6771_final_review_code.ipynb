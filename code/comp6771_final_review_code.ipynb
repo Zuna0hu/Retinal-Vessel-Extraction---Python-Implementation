{
  "nbformat": 4,
  "nbformat_minor": 0,
  "metadata": {
    "colab": {
      "provenance": []
    },
    "kernelspec": {
      "name": "python3",
      "display_name": "Python 3"
    },
    "language_info": {
      "name": "python"
    }
  },
  "cells": [
    {
      "cell_type": "code",
      "execution_count": 1,
      "metadata": {
        "id": "ofLWl2rzpwSz"
      },
      "outputs": [],
      "source": [
        "# import libraries\n",
        "import cv2\n",
        "import numpy as np\n",
        "from scipy.integrate import quad\n",
        "import matplotlib.pyplot as plt\n",
        "from scipy.ndimage import rotate\n",
        "from PIL import Image"
      ]
    },
    {
      "cell_type": "code",
      "source": [],
      "metadata": {
        "id": "AAVO502Bp1Qf"
      },
      "execution_count": null,
      "outputs": []
    }
  ]
}